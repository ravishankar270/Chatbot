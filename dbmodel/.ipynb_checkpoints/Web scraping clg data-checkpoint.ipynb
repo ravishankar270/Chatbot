{
 "cells": [
  {
   "cell_type": "code",
   "execution_count": 3,
   "metadata": {},
   "outputs": [],
   "source": [
    "url= \"https://www.shiksha.com/college/vivekanand-education-society-s-institute-of-technology-chembur-mumbai-24974/admission\""
   ]
  },
  {
   "cell_type": "code",
   "execution_count": 4,
   "metadata": {},
   "outputs": [
    {
     "data": {
      "text/plain": [
       "requests.models.Response"
      ]
     },
     "execution_count": 4,
     "metadata": {},
     "output_type": "execute_result"
    }
   ],
   "source": [
    "import requests\n",
    "r= requests.get(url)\n",
    "type(r)"
   ]
  },
  {
   "cell_type": "code",
   "execution_count": 68,
   "metadata": {},
   "outputs": [],
   "source": [
    "html= r.text\n"
   ]
  },
  {
   "cell_type": "code",
   "execution_count": 6,
   "metadata": {},
   "outputs": [
    {
     "data": {
      "text/plain": [
       "bs4.BeautifulSoup"
      ]
     },
     "execution_count": 6,
     "metadata": {},
     "output_type": "execute_result"
    }
   ],
   "source": [
    "from bs4 import BeautifulSoup\n",
    "soup= BeautifulSoup(html, 'html5lib')\n",
    "type(soup)"
   ]
  },
  {
   "cell_type": "code",
   "execution_count": 7,
   "metadata": {},
   "outputs": [
    {
     "data": {
      "text/plain": [
       "'Vivekanand Education Society’s Institute of Technology, Mumbai Admission 2020 - Cutoffs, Eligibility & Dates'"
      ]
     },
     "execution_count": 7,
     "metadata": {},
     "output_type": "execute_result"
    }
   ],
   "source": [
    "soup.title.string"
   ]
  },
  {
   "cell_type": "code",
   "execution_count": null,
   "metadata": {},
   "outputs": [],
   "source": []
  },
  {
   "cell_type": "code",
   "execution_count": 9,
   "metadata": {},
   "outputs": [
    {
     "name": "stdout",
     "output_type": "stream",
     "text": [
      "None\n"
     ]
    }
   ],
   "source": [
    "print(soup.div.filterColumn)"
   ]
  },
  {
   "cell_type": "code",
   "execution_count": null,
   "metadata": {},
   "outputs": [],
   "source": []
  },
  {
   "cell_type": "code",
   "execution_count": 12,
   "metadata": {},
   "outputs": [],
   "source": [
    "main=soup.find('div', id='root')"
   ]
  },
  {
   "cell_type": "code",
   "execution_count": null,
   "metadata": {},
   "outputs": [],
   "source": []
  },
  {
   "cell_type": "markdown",
   "metadata": {},
   "source": []
  },
  {
   "cell_type": "code",
   "execution_count": 62,
   "metadata": {},
   "outputs": [],
   "source": [
    "main1=main.find('main', id='main-wrapper')\n",
    "main2=main1.find('div', class_='pwa_pagecontent ap')\n",
    "main3=main2.find('div', class_='pwa_container')"
   ]
  },
  {
   "cell_type": "code",
   "execution_count": null,
   "metadata": {},
   "outputs": [],
   "source": []
  },
  {
   "cell_type": "markdown",
   "metadata": {},
   "source": []
  },
  {
   "cell_type": "code",
   "execution_count": 16,
   "metadata": {},
   "outputs": [
    {
     "name": "stdout",
     "output_type": "stream",
     "text": [
      "EligibilityQualificationMinimum Eligibility12th50%MHT CETN/AJEE MainN/AOther eligibility criteriaCandidate must have passed 10+2 or equivalent examination with Physics & Mathematics as compulsory subjects along with one ...Candidate must have passed 10+2 or equivalent examination with Physics & Mathematics as compulsory subjects along with one of the Chemistry/ Biotechnology/ Biology/ Technical Vocational subjects and obtained the above mentioned marks (45% marks for Backward class and PWD candidates belonging to Maharashtra State only) in the above subjects taken together.\n",
      "Maharashtra State candidates must have to appear for MHTCET.\n",
      "All India candidates need to appear for MHTCET/JEE Mains. However JEE Mains will be preferred over MHTCET.\n",
      "Or\n",
      "Candidate must have passed Diploma in Engineering and Technology and obtained at least 50% marks (45% marks for Backward class and PWD candidates belonging to Maharashtra State only).\n",
      "Or\n",
      "Candidate must have completed B.Sc. from a recognised university as defined by UGC and obtained at least 50% marks (45% marks for Backward class and PWD candidates belonging to Maharashtra State only) and passed 10+2 with Mathematics as a subject.more\n"
     ]
    }
   ],
   "source": [
    "main4=main3.find('div', id='pwa_container_fluid')\n",
    "#print(main4.text)\n",
    "main5=main4.find('div', class_='pwa_leftCol')\n",
    "#print(main5.text)\n",
    "main6=main5.find('section', id='eligibility')\n",
    "print(main6.text)\n",
    "\n",
    "\n"
   ]
  },
  {
   "cell_type": "code",
   "execution_count": 17,
   "metadata": {},
   "outputs": [
    {
     "name": "stdout",
     "output_type": "stream",
     "text": [
      "Other eligibility criteriaCandidate must have passed 10+2 or equivalent examination with Physics & Mathematics as compulsory subjects along with one ...Candidate must have passed 10+2 or equivalent examination with Physics & Mathematics as compulsory subjects along with one of the Chemistry/ Biotechnology/ Biology/ Technical Vocational subjects and obtained the above mentioned marks (45% marks for Backward class and PWD candidates belonging to Maharashtra State only) in the above subjects taken together.\n",
      "Maharashtra State candidates must have to appear for MHTCET.\n",
      "All India candidates need to appear for MHTCET/JEE Mains. However JEE Mains will be preferred over MHTCET.\n",
      "Or\n",
      "Candidate must have passed Diploma in Engineering and Technology and obtained at least 50% marks (45% marks for Backward class and PWD candidates belonging to Maharashtra State only).\n",
      "Or\n",
      "Candidate must have completed B.Sc. from a recognised university as defined by UGC and obtained at least 50% marks (45% marks for Backward class and PWD candidates belonging to Maharashtra State only) and passed 10+2 with Mathematics as a subject.more\n"
     ]
    }
   ],
   "source": [
    "main7= main6.find('ul', class_='flt-list exp-guid')\n",
    "print(main7.text)"
   ]
  },
  {
   "cell_type": "code",
   "execution_count": 18,
   "metadata": {},
   "outputs": [
    {
     "name": "stdout",
     "output_type": "stream",
     "text": [
      "Candidate must have passed 10+2 or equivalent examination with Physics & Mathematics as compulsory subjects along with one ...Candidate must have passed 10+2 or equivalent examination with Physics & Mathematics as compulsory subjects along with one of the Chemistry/ Biotechnology/ Biology/ Technical Vocational subjects and obtained the above mentioned marks (45% marks for Backward class and PWD candidates belonging to Maharashtra State only) in the above subjects taken together.\n",
      "Maharashtra State candidates must have to appear for MHTCET.\n",
      "All India candidates need to appear for MHTCET/JEE Mains. However JEE Mains will be preferred over MHTCET.\n",
      "Or\n",
      "Candidate must have passed Diploma in Engineering and Technology and obtained at least 50% marks (45% marks for Backward class and PWD candidates belonging to Maharashtra State only).\n",
      "Or\n",
      "Candidate must have completed B.Sc. from a recognised university as defined by UGC and obtained at least 50% marks (45% marks for Backward class and PWD candidates belonging to Maharashtra State only) and passed 10+2 with Mathematics as a subject.more\n"
     ]
    }
   ],
   "source": [
    "main8= main7.find('p', class_='read-more-wrap word-break')\n",
    "print(main8.text)\n"
   ]
  },
  {
   "cell_type": "code",
   "execution_count": 36,
   "metadata": {},
   "outputs": [
    {
     "name": "stdout",
     "output_type": "stream",
     "text": [
      "Candidate must have passed 10+2 or equivalent examination with Physics & Mathematics as compulsory subjects along with one ...Candidate must have passed 10+2 or equivalent examination with Physics & Mathematics as compulsory subjects along with one of the Chemistry/ Biotechnology/ Biology/ Technical Vocational subjects and obtained the above mentioned marks (45% marks for Backward class and PWD candidates belonging to Maharashtra State only) in the above subjects taken together.\n",
      "Maharashtra State candidates must have to appear for MHTCET.\n",
      "All India candidates need to appear for MHTCET/JEE Mains. However JEE Mains will be preferred over MHTCET.\n",
      "Or\n",
      "Candidate must have passed Diploma in Engineering and Technology and obtained at least 50% marks (45% marks for Backward class and PWD candidates belonging to Maharashtra State only).\n",
      "Or\n",
      "Candidate must have completed B.Sc. from a recognised university as defined by UGC and obtained at least 50% marks (45% marks for Backward class and PWD candidates belonging to Maharashtra State only) and passed 10+2 with Mathematics as a subject.more\n"
     ]
    }
   ],
   "source": [
    "s=soup.findAll('p')\n",
    "print(s[10].text)\n"
   ]
  },
  {
   "cell_type": "code",
   "execution_count": 50,
   "metadata": {},
   "outputs": [
    {
     "data": {
      "text/plain": [
       "bs4.BeautifulSoup"
      ]
     },
     "execution_count": 50,
     "metadata": {},
     "output_type": "execute_result"
    }
   ],
   "source": [
    "url2= \"https://www.shiksha.com/college/vivekanand-education-society-s-institute-of-technology-chembur-mumbai-24974/courses\"\n",
    "r2= requests.get(url2)\n",
    "type(r2)\n",
    "html2= r2.text\n",
    "from bs4 import BeautifulSoup\n",
    "soup2= BeautifulSoup(html2, 'html5lib')\n",
    "type(soup2)"
   ]
  },
  {
   "cell_type": "code",
   "execution_count": 61,
   "metadata": {},
   "outputs": [],
   "source": [
    "item2=soup2.findAll('p')\n",
    "\n"
   ]
  },
  {
   "cell_type": "code",
   "execution_count": 60,
   "metadata": {},
   "outputs": [
    {
     "name": "stdout",
     "output_type": "stream",
     "text": [
      "B.E. in Electronics and Telecommunication Engineering4.1Placements3.9Infrastructure4.2Faculty & Course Curriculum4.0Crowd & Campus Life4.2Value for Money4.0View all 33 reviews(33) | Total Fees: ₹ 4.52 Lakh | 4 years | Full TimeExams: JEE Main, MHT CETDegree by  University of Mumbai Get Fee DetailsBrochure\n",
      "B.E. in Instrumentation Engineering4.1Placements4.3Infrastructure4.3Faculty & Course Curriculum3.7Crowd & Campus Life4.1Value for Money4.0View all 12 reviews(12) | Total Fees: ₹ 4.52 Lakh | 4 years | Full TimeExams: JEE Main, MHT CETDegree by  University of Mumbai Get Fee DetailsBrochure\n",
      "B.E. in Computer Engineering3.9Placements3.9Infrastructure4.1Faculty & Course Curriculum3.5Crowd & Campus Life3.9Value for Money3.9View all 37 reviews(37) | Total Fees: ₹ 4.52 Lakh | 4 years | Full TimeExams: JEE Main, MHT CETDegree by  University of Mumbai Get Fee DetailsBrochure\n",
      "B.E. in Information Technology4.0Placements4.1Infrastructure4.1Faculty & Course Curriculum3.8Crowd & Campus Life4.0Value for Money4.2View all 16 reviews(16) | Total Fees: ₹ 4.52 Lakh | 4 years | Full TimeExams: JEE Main, MHT CETDegree by  University of Mumbai Get Fee DetailsBrochure\n",
      "M.C.A.4.3Placements4.5Infrastructure4.3Faculty & Course Curriculum4.1Crowd & Campus Life4.4Value for Money4.2View all 11 reviews(11) | Total Fees: ₹ 3.00 Lakh | 3 years | Full TimeExams: MAH MCA CETDegree by  University of Mumbai Get Fee DetailsBrochure\n",
      "B.E. in Electronics Engineering4.0Placements3.8Infrastructure4.2Faculty & Course Curriculum3.8Crowd & Campus Life4.2Value for Money3.7View all 22 reviews(22) | Total Fees: ₹ 4.52 Lakh | 4 years | Full TimeExams: JEE Main, MHT CETDegree by  University of Mumbai Get Fee DetailsBrochure\n",
      "M.E. in Electronics and Telecommunication Engineering5.0Placements5.0Infrastructure5.0Faculty & Course Curriculum5.0Crowd & Campus Life5.0Value for Money5.0View 1 review(1) | Total Fees: ₹ 2.10 Lakh | 2 years | Full TimeExams: GATE, GPATDegree by  University of Mumbai Get Fee DetailsBrochure\n",
      "B.E. in Electronics and Telecommunication Engineerin...3.6Placements4.0Infrastructure4.0Faculty & Course Curriculum4.0Crowd & Campus Life3.0Value for Money3.0View 1 review(1) | Total Fees: ₹ 3.28 Lakh | 3 years | Full TimeDegree by  University of Mumbai Get Fee DetailsBrochure\n",
      "M.E. in Information TechnologyTotal Fees: ₹ 2.10 Lakh | 2 years | Full TimeExams: GATE, GPATDegree by  University of Mumbai Get Fee DetailsBrochure\n",
      "M.E. in Instrumentation and ControlTotal Fees: ₹ 2.10 Lakh | 2 years | Full TimeExams: GATE, GPATDegree by  University of Mumbai Get Fee DetailsBrochure\n"
     ]
    }
   ],
   "source": [
    "course= soup2.findAll('div', class_='ctpSrp-tuple')\n",
    "for i in course:\n",
    "    print(i.text)"
   ]
  },
  {
   "cell_type": "code",
   "execution_count": 65,
   "metadata": {},
   "outputs": [
    {
     "data": {
      "text/plain": [
       "bs4.BeautifulSoup"
      ]
     },
     "execution_count": 65,
     "metadata": {},
     "output_type": "execute_result"
    }
   ],
   "source": [
    "url3='https://www.shiksha.com/college/vivekanand-education-society-s-institute-of-technology-chembur-mumbai-24974'\n",
    "r3= requests.get(url3)\n",
    "type(r3)\n",
    "html3= r3.text\n",
    "from bs4 import BeautifulSoup\n",
    "soup3= BeautifulSoup(html3, 'html5lib')\n",
    "type(soup3)\n"
   ]
  },
  {
   "cell_type": "code",
   "execution_count": 67,
   "metadata": {},
   "outputs": [
    {
     "data": {
      "text/plain": [
       "'Established1984CityMumbaiWebsiteGo to website...https://ves.ac.in/vesit/Accepted ExamsMAH MCA CET,  Popular Courses B.E. / B.Tech , MCAOwnershipPrivateTotal Courses10 courses across 2 streams'"
      ]
     },
     "execution_count": 67,
     "metadata": {},
     "output_type": "execute_result"
    }
   ],
   "source": [
    "info= soup3.find('div', class_='facts_table')\n",
    "info.text"
   ]
  },
  {
   "cell_type": "code",
   "execution_count": null,
   "metadata": {},
   "outputs": [],
   "source": []
  }
 ],
 "metadata": {
  "kernelspec": {
   "display_name": "Python 3",
   "language": "python",
   "name": "python3"
  },
  "language_info": {
   "codemirror_mode": {
    "name": "ipython",
    "version": 3
   },
   "file_extension": ".py",
   "mimetype": "text/x-python",
   "name": "python",
   "nbconvert_exporter": "python",
   "pygments_lexer": "ipython3",
   "version": "3.7.3"
  }
 },
 "nbformat": 4,
 "nbformat_minor": 2
}

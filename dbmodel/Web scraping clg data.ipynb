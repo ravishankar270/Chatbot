{
 "cells": [
  {
   "cell_type": "code",
   "execution_count": 3,
   "metadata": {},
   "outputs": [],
   "source": [
    "url= \"https://www.shiksha.com/college/vivekanand-education-society-s-institute-of-technology-chembur-mumbai-24974/admission\""
   ]
  },
  {
   "cell_type": "code",
   "execution_count": 4,
   "metadata": {},
   "outputs": [
    {
     "data": {
      "text/plain": [
       "requests.models.Response"
      ]
     },
     "execution_count": 4,
     "metadata": {},
     "output_type": "execute_result"
    }
   ],
   "source": [
    "import requests\n",
    "r= requests.get(url)\n",
    "type(r)"
   ]
  },
  {
   "cell_type": "code",
   "execution_count": 5,
   "metadata": {},
   "outputs": [],
   "source": [
    "html= r.text\n"
   ]
  },
  {
   "cell_type": "code",
   "execution_count": 6,
   "metadata": {},
   "outputs": [
    {
     "data": {
      "text/plain": [
       "bs4.BeautifulSoup"
      ]
     },
     "execution_count": 6,
     "metadata": {},
     "output_type": "execute_result"
    }
   ],
   "source": [
    "from bs4 import BeautifulSoup\n",
    "soup= BeautifulSoup(html, 'html5lib')\n",
    "type(soup)"
   ]
  },
  {
   "cell_type": "code",
   "execution_count": 7,
   "metadata": {},
   "outputs": [
    {
     "data": {
      "text/plain": [
       "'Vivekanand Education Society’s Institute of Technology, Mumbai Admission 2020: Process, Eligibility & Dates'"
      ]
     },
     "execution_count": 7,
     "metadata": {},
     "output_type": "execute_result"
    }
   ],
   "source": [
    "soup.title.string"
   ]
  },
  {
   "cell_type": "code",
   "execution_count": null,
   "metadata": {},
   "outputs": [],
   "source": []
  },
  {
   "cell_type": "code",
   "execution_count": 8,
   "metadata": {},
   "outputs": [
    {
     "name": "stdout",
     "output_type": "stream",
     "text": [
      "None\n"
     ]
    }
   ],
   "source": [
    "print(soup.div.filterColumn)"
   ]
  },
  {
   "cell_type": "code",
   "execution_count": null,
   "metadata": {},
   "outputs": [],
   "source": []
  },
  {
   "cell_type": "code",
   "execution_count": 9,
   "metadata": {},
   "outputs": [],
   "source": [
    "main=soup.find('div', id='root')"
   ]
  },
  {
   "cell_type": "code",
   "execution_count": null,
   "metadata": {},
   "outputs": [],
   "source": []
  },
  {
   "cell_type": "markdown",
   "metadata": {},
   "source": []
  },
  {
   "cell_type": "code",
   "execution_count": 10,
   "metadata": {},
   "outputs": [],
   "source": [
    "main1=main.find('main', id='main-wrapper')\n",
    "main2=main1.find('div', class_='pwa_pagecontent ap')\n",
    "main3=main2.find('div', class_='pwa_container')"
   ]
  },
  {
   "cell_type": "code",
   "execution_count": null,
   "metadata": {},
   "outputs": [],
   "source": []
  },
  {
   "cell_type": "markdown",
   "metadata": {},
   "source": []
  },
  {
   "cell_type": "code",
   "execution_count": 11,
   "metadata": {},
   "outputs": [
    {
     "name": "stdout",
     "output_type": "stream",
     "text": [
      "EligibilityQualificationMinimum Eligibility12th50%MHT CETN/AJEE MainN/AOther eligibility criteriaCandidate must have passed 10+2 or equivalent examination with Physics & Mathematics as compulsory subjects along with one ...Candidate must have passed 10+2 or equivalent examination with Physics & Mathematics as compulsory subjects along with one of the Chemistry/ Biotechnology/ Biology/ Technical Vocational subjects and obtained the above mentioned marks (45% marks for Backward class and PWD candidates belonging to Maharashtra State only) in the above subjects taken together.\n",
      "Maharashtra State candidates must have to appear for MHTCET.\n",
      "All India candidates need to appear for MHTCET/JEE Mains. However JEE Mains will be preferred over MHTCET.\n",
      "Or\n",
      "Candidate must have passed Diploma in Engineering and Technology and obtained at least 50% marks (45% marks for Backward class and PWD candidates belonging to Maharashtra State only).\n",
      "Or\n",
      "Candidate must have completed B.Sc. from a recognised university as defined by UGC and obtained at least 50% marks (45% marks for Backward class and PWD candidates belonging to Maharashtra State only) and passed 10+2 with Mathematics as a subject.more\n"
     ]
    }
   ],
   "source": [
    "main4=main3.find('div', id='pwa_container_fluid')\n",
    "#print(main4.text)\n",
    "main5=main4.find('div', class_='pwa_leftCol')\n",
    "#print(main5.text)\n",
    "main6=main5.find('section', id='eligibility')\n",
    "print(main6.text)\n",
    "\n",
    "\n"
   ]
  },
  {
   "cell_type": "code",
   "execution_count": 12,
   "metadata": {},
   "outputs": [
    {
     "name": "stdout",
     "output_type": "stream",
     "text": [
      "Other eligibility criteriaCandidate must have passed 10+2 or equivalent examination with Physics & Mathematics as compulsory subjects along with one ...Candidate must have passed 10+2 or equivalent examination with Physics & Mathematics as compulsory subjects along with one of the Chemistry/ Biotechnology/ Biology/ Technical Vocational subjects and obtained the above mentioned marks (45% marks for Backward class and PWD candidates belonging to Maharashtra State only) in the above subjects taken together.\n",
      "Maharashtra State candidates must have to appear for MHTCET.\n",
      "All India candidates need to appear for MHTCET/JEE Mains. However JEE Mains will be preferred over MHTCET.\n",
      "Or\n",
      "Candidate must have passed Diploma in Engineering and Technology and obtained at least 50% marks (45% marks for Backward class and PWD candidates belonging to Maharashtra State only).\n",
      "Or\n",
      "Candidate must have completed B.Sc. from a recognised university as defined by UGC and obtained at least 50% marks (45% marks for Backward class and PWD candidates belonging to Maharashtra State only) and passed 10+2 with Mathematics as a subject.more\n"
     ]
    }
   ],
   "source": [
    "main7= main6.find('ul', class_='flt-list exp-guid')\n",
    "print(main7.text)"
   ]
  },
  {
   "cell_type": "code",
   "execution_count": 13,
   "metadata": {},
   "outputs": [
    {
     "name": "stdout",
     "output_type": "stream",
     "text": [
      "Candidate must have passed 10+2 or equivalent examination with Physics & Mathematics as compulsory subjects along with one ...Candidate must have passed 10+2 or equivalent examination with Physics & Mathematics as compulsory subjects along with one of the Chemistry/ Biotechnology/ Biology/ Technical Vocational subjects and obtained the above mentioned marks (45% marks for Backward class and PWD candidates belonging to Maharashtra State only) in the above subjects taken together.\n",
      "Maharashtra State candidates must have to appear for MHTCET.\n",
      "All India candidates need to appear for MHTCET/JEE Mains. However JEE Mains will be preferred over MHTCET.\n",
      "Or\n",
      "Candidate must have passed Diploma in Engineering and Technology and obtained at least 50% marks (45% marks for Backward class and PWD candidates belonging to Maharashtra State only).\n",
      "Or\n",
      "Candidate must have completed B.Sc. from a recognised university as defined by UGC and obtained at least 50% marks (45% marks for Backward class and PWD candidates belonging to Maharashtra State only) and passed 10+2 with Mathematics as a subject.more\n"
     ]
    }
   ],
   "source": [
    "main8= main7.find('p', class_='read-more-wrap word-break')\n",
    "print(main8.text)\n"
   ]
  },
  {
   "cell_type": "code",
   "execution_count": 14,
   "metadata": {},
   "outputs": [
    {
     "name": "stdout",
     "output_type": "stream",
     "text": [
      "Candidate must have passed 10+2 or equivalent examination with Physics & Mathematics as compulsory subjects along with one ...Candidate must have passed 10+2 or equivalent examination with Physics & Mathematics as compulsory subjects along with one of the Chemistry/ Biotechnology/ Biology/ Technical Vocational subjects and obtained the above mentioned marks (45% marks for Backward class and PWD candidates belonging to Maharashtra State only) in the above subjects taken together.\n",
      "Maharashtra State candidates must have to appear for MHTCET.\n",
      "All India candidates need to appear for MHTCET/JEE Mains. However JEE Mains will be preferred over MHTCET.\n",
      "Or\n",
      "Candidate must have passed Diploma in Engineering and Technology and obtained at least 50% marks (45% marks for Backward class and PWD candidates belonging to Maharashtra State only).\n",
      "Or\n",
      "Candidate must have completed B.Sc. from a recognised university as defined by UGC and obtained at least 50% marks (45% marks for Backward class and PWD candidates belonging to Maharashtra State only) and passed 10+2 with Mathematics as a subject.more\n"
     ]
    }
   ],
   "source": [
    "s=soup.findAll('p')\n",
    "print(s[10].text)\n"
   ]
  },
  {
   "cell_type": "code",
   "execution_count": 15,
   "metadata": {},
   "outputs": [
    {
     "data": {
      "text/plain": [
       "bs4.BeautifulSoup"
      ]
     },
     "execution_count": 15,
     "metadata": {},
     "output_type": "execute_result"
    }
   ],
   "source": [
    "url2= \"https://ves.ac.in/facilities/hostels/\"\n",
    "r2= requests.get(url2)\n",
    "type(r2)\n",
    "html2= r2.text\n",
    "from bs4 import BeautifulSoup\n",
    "soup2= BeautifulSoup(html2, 'html5lib')\n",
    "type(soup2)"
   ]
  },
  {
   "cell_type": "code",
   "execution_count": 20,
   "metadata": {},
   "outputs": [],
   "source": [
    "item2=soup2.findAll('p')\n",
    "\n"
   ]
  },
  {
   "cell_type": "code",
   "execution_count": 22,
   "metadata": {},
   "outputs": [
    {
     "name": "stdout",
     "output_type": "stream",
     "text": [
      "\n",
      "\t\n",
      "\t\tVES Hostels for Boys and Girls\n",
      "About Hostel\n",
      "The VES Hostel is located in the HashuAdvani Memorial Complex,Chembur. The accommodation is available for boys and girls separately. It isprovided on first-come-first -serve basis.The V.E.S. Hostel was donated by Shri Harkishu Bhojraj Chanrai, Smt. Bhagwani Bhojraj Chanrai, Smt. Madhu Bhojraj Chanrai.\n",
      " \n",
      "The hostel facility is exclusively available for the VES students only. \n",
      " \n",
      "The Hostel consists of the following committees to ensure the smooth functioning and active involvement of students in the development of the hostel:-\n",
      "\n",
      "Mess Committee\n",
      "Sports Committee\n",
      "Cleanliness Committee\n",
      "\n",
      "The entire working of the hostel is supervised under the able guidance of the Hostel Committee,which consists of the following members:-\n",
      "\n",
      "Ms.Sangeeta Shahni\n",
      "Mr.Vishu Lala\n",
      "Mr.Sunil Madnani\n",
      "\n",
      "Hostel Warden:-\n",
      "\n",
      "Sunil Madnani\n",
      "Mrs. Kajal Madnani\n",
      "\n",
      "The facilities provided at the Hostel are:\n",
      "\n",
      "Recreation Room with LED TV\n",
      "Dining Hall\n",
      "Indoor Games\n",
      "\n",
      "Table Tennis\n",
      "Carrom\n",
      "Chess\n",
      "\n",
      "\n",
      "Outdoor Games\n",
      "\n",
      "Volley Ball\n",
      "Badminton\n",
      "\n",
      "\n",
      "Mess Facilities\n",
      "\n",
      "Moving Breakfast with Milk/Tea/Coffee\n",
      "Lunch with curds & Green Salad\n",
      "Snacks with coffee Tea\n",
      "Dinner with salad & Desert/Sweets\n",
      "\n",
      "\n",
      "\n",
      "Fee Structure:\n",
      "Hostel Fees: Rs. 55000/-\n",
      "Security deposit: Rs. 2000/-\n",
      "Mess Fees: Rs 57000/-\n",
      "Demand draft fvg….Ves Hostel: Rs. 57000/-\n",
      "Demand draft fvg….. Ves Mess a/c: Rs. 57000/-\n",
      "Contact details:\n",
      "Email: hostel.admin@ves.ac.in\n",
      "Number: 9820569938\n",
      " \n",
      "\t\t\t\n"
     ]
    }
   ],
   "source": [
    "course= soup2.findAll('div', class_='entry-content')\n",
    "for i in course:\n",
    "    print(i.text)"
   ]
  },
  {
   "cell_type": "code",
   "execution_count": 25,
   "metadata": {},
   "outputs": [
    {
     "data": {
      "text/plain": [
       "bs4.BeautifulSoup"
      ]
     },
     "execution_count": 25,
     "metadata": {},
     "output_type": "execute_result"
    }
   ],
   "source": [
    "url3='https://vesitadmissions.ves.ac.in/pdfs/Fee_Structure_2019-20_FE.pdf'\n",
    "r3= requests.get(url3)\n",
    "type(r3)\n",
    "html3= r3.text\n",
    "from bs4 import BeautifulSoup\n",
    "soup3= BeautifulSoup(html3, 'html5lib')\n",
    "type(soup3)\n"
   ]
  },
  {
   "cell_type": "code",
   "execution_count": 30,
   "metadata": {},
   "outputs": [
    {
     "ename": "TypeError",
     "evalue": "find() got multiple values for argument 'name'",
     "output_type": "error",
     "traceback": [
      "\u001b[1;31m---------------------------------------------------------------------------\u001b[0m",
      "\u001b[1;31mTypeError\u001b[0m                                 Traceback (most recent call last)",
      "\u001b[1;32m<ipython-input-30-30d1875391a4>\u001b[0m in \u001b[0;36m<module>\u001b[1;34m\u001b[0m\n\u001b[1;32m----> 1\u001b[1;33m \u001b[0minfo\u001b[0m\u001b[1;33m=\u001b[0m \u001b[0msoup3\u001b[0m\u001b[1;33m.\u001b[0m\u001b[0mfind\u001b[0m\u001b[1;33m(\u001b[0m\u001b[1;34m'body'\u001b[0m\u001b[1;33m,\u001b[0m \u001b[0mname\u001b[0m\u001b[1;33m=\u001b[0m\u001b[1;34m'79F89607041F42121FF7EC489EB5EACE'\u001b[0m\u001b[1;33m)\u001b[0m\u001b[1;33m\u001b[0m\u001b[1;33m\u001b[0m\u001b[0m\n\u001b[0m\u001b[0;32m      2\u001b[0m \u001b[0minfo\u001b[0m\u001b[1;33m.\u001b[0m\u001b[0mtext\u001b[0m\u001b[1;33m\u001b[0m\u001b[1;33m\u001b[0m\u001b[0m\n",
      "\u001b[1;31mTypeError\u001b[0m: find() got multiple values for argument 'name'"
     ]
    }
   ],
   "source": [
    "info= soup3.find('body', name='79F89607041F42121FF7EC489EB5EACE')\n",
    "info.text"
   ]
  },
  {
   "cell_type": "code",
   "execution_count": null,
   "metadata": {},
   "outputs": [],
   "source": []
  }
 ],
 "metadata": {
  "kernelspec": {
   "display_name": "Python 3",
   "language": "python",
   "name": "python3"
  },
  "language_info": {
   "codemirror_mode": {
    "name": "ipython",
    "version": 3
   },
   "file_extension": ".py",
   "mimetype": "text/x-python",
   "name": "python",
   "nbconvert_exporter": "python",
   "pygments_lexer": "ipython3",
   "version": "3.7.3"
  }
 },
 "nbformat": 4,
 "nbformat_minor": 2
}
